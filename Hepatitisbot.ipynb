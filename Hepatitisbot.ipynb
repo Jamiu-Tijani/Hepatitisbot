{
 "cells": [
  {
   "cell_type": "code",
   "execution_count": 1,
   "metadata": {},
   "outputs": [],
   "source": [
    "#description : A chatbot to get informed about hapatitis \n",
    "#importing required modules\n",
    "from newspaper import Article\n",
    "import random\n",
    "import string\n",
    "from sklearn.feature_extraction.text import TfidfVectorizer\n",
    "from sklearn.metrics.pairwise import cosine_similarity\n",
    "import nltk\n",
    "import numpy as np\n",
    "import warnings"
   ]
  },
  {
   "cell_type": "code",
   "execution_count": 2,
   "metadata": {},
   "outputs": [],
   "source": [
    "warnings.filterwarnings('ignore')"
   ]
  },
  {
   "cell_type": "code",
   "execution_count": 7,
   "metadata": {},
   "outputs": [
    {
     "name": "stdout",
     "output_type": "stream",
     "text": [
      "9 May 2017\n",
      "\n",
      "·\n",
      "\n",
      "Hepatitis refers to an inflammatory condition of the liver. It's commonly caused by a viral infection, but there are other possible causes of hepatitis. These include autoimmune hepatitis and hepatitis that occurs as a secondary result of medications, drugs, toxins, and alcohol.\n"
     ]
    }
   ],
   "source": [
    "article = Article('https://www.google.com/search?q=hepatitis&oq=hepatitis&aqs=chrome..69i57j69i60l2.3028j0j7&sourceid=chrome&ie=UTF-8')\n",
    "article.download()\n",
    "article.parse()\n",
    "article.nlp()\n",
    "corpus3 = article.text\n",
    "print(corpus3)"
   ]
  },
  {
   "cell_type": "code",
   "execution_count": 8,
   "metadata": {},
   "outputs": [
    {
     "name": "stdout",
     "output_type": "stream",
     "text": [
      "Hepatitis is the inflammation of the liver. Although hepatitis can be the symptom of many illnesses, including autoimmune diseases, it is most often caused by a viral infection.\n",
      "\n",
      "There are five main types of viral hepatitis — A, B, C, D and E. Of those, Hepatitis A, B and C are the most common types in the United States, according to the Centers for Disease Control and Prevention(CDC). Viral hepatitis sometimes goes away without any treatment, but in some cases, the virus will stay in the body and cause a chronic infection.\n",
      "\n",
      "Symptoms\n",
      "\n",
      "Some people with hepatitis have no symptoms, according to the National Institute of Diabetes and Digestive and Kidney Diseases (NIDDK). When symptoms occur, they can include:\n",
      "\n",
      "jaundice (a yellowing of the skin and eyes)\n",
      "\n",
      "abdominal pain\n",
      "\n",
      "loss of appetite\n",
      "\n",
      "nausea and vomiting\n",
      "\n",
      "diarrhea\n",
      "\n",
      "fever\n",
      "\n",
      "Causes\n",
      "\n",
      "Hepatitis can be caused by drugs, alcohol or other toxins, by infection with bacteria, viruses or parasites, or when the body mistakenly attacks the liver (an autoimmune disease), according to the World Health Organization. Hepatitis viruses are the most common cause of the illness.\n",
      "\n",
      "Hepatitis A and E are acute (short-term) viral infections typically transmitted through food or water contaminated by fecal matter, the WHO says. The primary sources of the hepatitis A and E viruses are raw or undercooked food, food handled by people who have not properly washed their hands and water contaminated by animal or human waste. Hepatitis E is rare in the United States, but common in other parts of the world, according to the CDC. Hepatitis B is spread through exposure to infected blood, through sexual contact with an infected person, or during childbirth, when the virus can be transmitted from mother to child, according to the NIDDK.\n",
      "\n",
      "Hepatitis C is mainly spread through contact with the blood of an infected person, according to the CDC. Such contact can occur when people share needles to inject drugs. Less commonly, hepatitis C can spread through sex or childbirth.\n",
      "\n",
      "Hepatitis D is also spread through contact with blood, but infections with this virus only occur when someone is also infected with hepatitis B. Injection drug users are at greatest risk for this type of hepatitis, according to the NIDDK.\n",
      "\n",
      "Diagnosis\n",
      "\n",
      "Acute liver infection is usually suspected when patients have symptoms such as jaundice and fatigue. Blood tests can then be used to determine the presence and quantity of hepatitis virus and antibodies in the body. The doctor may suggest getting a liver biopsy if chronic hepatitis B and C is suspected and there's a chance of liver damage.\n",
      "\n",
      "Since liver damage can occur before there are any overt signs and symptoms, routine screenings for hepatitis B and C are recommended for people who have a high risk of coming in contact with the viruses. Regular testing is recommended for injection-drug users, men who have sex with other men, people taking immunosuppressive drugs, HIV-positive patients and pregnant women, according to hepatitis B guidelines from the CDC.\n",
      "\n",
      "Complications\n",
      "\n",
      "Chronic infection and inflammation can lead to extensive scarring of the liver (cirrhosis) and impaired liver functions. While the estimated number of new infections in the United States has been declining, hepatitis B and C viruses can persist as chronic infections, according to statistics reported to the National Notifiable Disease Surveillance System. Both are leading causes of chronic liver disease and liver cancer in the United States.\n",
      "\n",
      "About 2 to 6 percent of adults infected with hepatitis B, and about 75 to 85 percent of people infected with hepatitis C, will develop a chronic infection, according to the CDC. Infants and children who contract hepatitis B have a higher risk for chronic infection.\n",
      "\n",
      "Hepatitis B infections can also increase the risk of becoming infected with hepatitis D, which cannot be contracted unless there's already a pre-existing hepatitis B infection, according to the Mayo Clinic. Hepatitis B can also cause kidney problems, and infected adults are more likely than children to experience kidney failure.\n",
      "\n",
      "Both hepatitis A and E do not lead to chronic infections, according to the CDC. However, in rare cases, acute liver failure could occur in older adults and those who already have other chronic liver diseases.\n",
      "\n",
      "Treatment\n",
      "\n",
      "Most acute hepatitis infections brought on by the hepatitis A, B, C and E virus will resolve on their own over several weeks or months, according to the NIH. However, severe cases of acute hepatitis B can be treated with antiviral drugs such as lamivudine (trade name Epivir).\n",
      "\n",
      "Chronic hepatitis B and C infections (which do not get better on their own after a few months) may be treated with antiviral medications such as pegylated interferon (peginterferon) injections or oral antivirals such as lamivudine for hepatitis B or ribavirin (trade name Copegus, Rebetol, Ribasphere) for hepatitis C. However, ribavairin must be taken with peginterferon in order for it to be an effective treatment against hepatitis C, according to the NIH. Liver transplants may be necessary if the liver is severely damaged.\n",
      "\n",
      "Prevention\n",
      "\n",
      "Routine childhood hepatitis A vaccination, which was implemented in many parts of the United States in the 1990s, has significantly reduced new cases of Hepatitis A by 95 percent between 1995 (12 cases per 100,000 people ) to 2010 (less than 1 case per 100,000 people), according to the CDC.\n",
      "\n",
      "Hepatitis B vaccination is also available, and it is 95 percent effective in preventing viral infections and its chronic consequences, according to the WHO.\n",
      "\n",
      "Although there is no vaccine for hepatitis D, the disease can still be prevented by vaccinating against hepatitis B.\n",
      "\n",
      "Babies born to mothers infected with hepatitis B should receive hepatitis B immune globulin and the hepatitis B vaccine within 12 hours of birth to help prevent infection, the NIH says.\n",
      "\n",
      "Additional reporting by Rachael Rettner, Senior Writer\n",
      "\n",
      "Follow Rachael Rettner @RachaelRettner. Follow Live Science @livescience, Facebook & Google+.\n"
     ]
    }
   ],
   "source": [
    "article = Article('https://www.livescience.com/34735-hepatitis-symptoms-treatment.html')\n",
    "article.download()\n",
    "article.parse()\n",
    "article.nlp()\n",
    "corpus1 = article.text\n",
    "print(corpus1)"
   ]
  },
  {
   "cell_type": "code",
   "execution_count": 9,
   "metadata": {},
   "outputs": [
    {
     "name": "stdout",
     "output_type": "stream",
     "text": [
      "The CDC divides travel vaccinations into three categories: 1) routine, 2) recommended, and 3) required. The only vaccine classified as \"required\" by International Health Regulations is the yellow fever vaccination for travel to certain countries in sub-Saharan Africa and tropical South America.\n",
      "\n",
      "What are the common types of viral hepatitis?\n",
      "\n",
      "Although the most common types of viral hepatitis are HAV, HBV and HCV, some clinicians had previously considered the acute and chronic phases of hepatic infections as \"types\" of viral hepatitis. HAV was considered to be acute viral hepatitis because the HAV infections seldom caused permanent liver damage that led to hepatic (liver) failure. HBV and HCV produced chronic viral hepatitis. However, these terms are outdated and not currently used as frequently because all of the viruses that cause hepatitis may have acute phase symptoms (see symptoms below). Prevention techniques and vaccinations have markedly reduced the current incidence of common viral hepatitis infections; however, there remains a population of about 1 to 2 million people in the U.S. with chronic HBV, and about 3.5 million with chronic HCV according to the CDC. Statistics are incomplete for determining how many new infections occur each year; the CDC documented infections but then goes on to estimate the actual numbers by further estimating the number of unreported infections (see following sections and reference 1).\n",
      "\n",
      "Hepatitis A (HAV)\n",
      "\n",
      "In 2016, there were 2,007 new HAV cases reported to the CDC. The hepatitis caused by HAV is an acute illness (acute viral hepatitis) that never becomes chronic. At one time, hepatitis A was referred to as \"infectious hepatitis\" because it could be spread easily from person to person like other viral infections. Infection with hepatitis A virus can be spread through the ingestion of food or water, especially where unsanitary conditions allow water or food to become contaminated by human waste containing hepatitis A (the fecal-oral mode of transmission). Hepatitis A typically is spread among household members and close contacts through the passage of oral secretions (intimate kissing) or stool (poor hand washing). It also is common to have infection spread to customers in restaurants and among children and workers in day care centers if hand washing and sanitary precautions are not observed.\n",
      "\n",
      "Hepatitis B (HBV)\n",
      "\n",
      "There were 3,218 new cases of HBV infection estimated by the CDC in 2016 and more than 1,698 people died due to the consequences of chronic hepatitis B infection in the United States according to the CDC. HBV hepatitis was at one time referred to as \"serum hepatitis,\" because it was thought that the only way HBV could spread was through blood or serum (the liquid portion of blood) containing the virus. It is now known that HBV can spread by sexual contact, the transfer of blood or serum through shared needles in drug abusers, accidental needle sticks with needles contaminated with infected blood, blood transfusions, hemodialysis, and by infected mothers to their newborns. The infection also can be spread by tattooing, body piercing, and sharing razors and toothbrushes (if there is contamination with infected blood). About 5% to 10% of patients with HBV hepatitis develop chronic HBV infection (infection lasting at least six months and often years to decades) and can infect others as long as they remain infected. Patients with chronic HBV infection also are at risk of developing cirrhosis, liver failure, and liver cancer. It is estimated that there are 2.2 million people in the U.S. and 2 billion people worldwide who suffer with chronic HBV infections.\n",
      "\n",
      "Hepatitis C (HCV)\n",
      "\n",
      "The CDC reported that there were 2,967 reported new cases of hepatitis C in 2016. The CDC reports that the actual number of acute cases are estimated to be 13.9 times the number of reported cases in any year, thus, it is estimated that there were actually 41,200 acute hepatitis C cases occurring in 2016. HCV hepatitis was previously referred to as \"non-A, non-B hepatitis,\" because the causative virus had not been identified, but it was known to be neither HAV nor HBV. HCV usually is spread by shared needles among drug abusers, blood transfusion, hemodialysis, and needle sticks. Approximately 75%-90% of transfusion-associated hepatitis is caused by HCV. Transmission of the virus by sexual contact has been reported, but is considered rare. An estimated 75% to 85% of patients with acute HCV infection develop chronic infection. Patients with chronic HCV infection can continue to infect others. Patients with chronic HCV infection are at risk for developing cirrhosis, liver failure, and liver cancer. It is estimated that there are about 3.5 million people with chronic HCV infection in the U.S.\n",
      "\n",
      "Types D, E, and G Hepatitis\n",
      "\n",
      "There also are viral hepatitis types D, E, and G. The most important of these at present is the hepatitis D virus (HDV), also known as the delta virus or agent. It is a small virus that requires concomitant infection with HBV to survive. HDV cannot survive on its own because it requires a protein that the HBV makes (the envelope protein, also called surface antigen) to enable it to infect liver cells. The ways in which HDV is spread are by shared needles among drug abusers, contaminated blood, and by sexual contact; essentially the same ways as HBV.\n",
      "\n",
      "Individuals who already have chronic HBV infection can acquire HDV infection at the same time as they acquire the HBV infection, or at a later time. Those with chronic hepatitis due to HBV and HDV develop cirrhosis (severe liver scarring) rapidly. Moreover, the combination of HDV and HBV virus infection is very difficult to treat.\n",
      "\n",
      "Hepatitis E virus (HEV) is similar to HAV in terms of disease, and mainly occurs in Asia where it is transmitted by contaminated water.\n",
      "\n",
      "Hepatitis G virus (HGV, also termed GBV-C) was recently discovered and resembles HCV, but more closely, the flaviviruses. The virus and its effects are under investigation, and its role in causing disease in humans is unclear.\n"
     ]
    }
   ],
   "source": [
    "article = Article('https://www.medicinenet.com/viral_hepatitis/article.htm')\n",
    "article.download()\n",
    "article.parse()\n",
    "article.nlp()\n",
    "corpus2 = article.text\n",
    "print(corpus2)"
   ]
  },
  {
   "cell_type": "code",
   "execution_count": 10,
   "metadata": {},
   "outputs": [],
   "source": [
    "corpus = corpus1+corpus2+corpus3"
   ]
  },
  {
   "cell_type": "code",
   "execution_count": 11,
   "metadata": {},
   "outputs": [
    {
     "name": "stdout",
     "output_type": "stream",
     "text": [
      "['Hepatitis is the inflammation of the liver.', 'Although hepatitis can be the symptom of many illnesses, including autoimmune diseases, it is most often caused by a viral infection.', 'There are five main types of viral hepatitis — A, B, C, D and E. Of those, Hepatitis A, B and C are the most common types in the United States, according to the Centers for Disease Control and Prevention(CDC).', 'Viral hepatitis sometimes goes away without any treatment, but in some cases, the virus will stay in the body and cause a chronic infection.', 'Symptoms\\n\\nSome people with hepatitis have no symptoms, according to the National Institute of Diabetes and Digestive and Kidney Diseases (NIDDK).', 'When symptoms occur, they can include:\\n\\njaundice (a yellowing of the skin and eyes)\\n\\nabdominal pain\\n\\nloss of appetite\\n\\nnausea and vomiting\\n\\ndiarrhea\\n\\nfever\\n\\nCauses\\n\\nHepatitis can be caused by drugs, alcohol or other toxins, by infection with bacteria, viruses or parasites, or when the body mistakenly attacks the liver (an autoimmune disease), according to the World Health Organization.', 'Hepatitis viruses are the most common cause of the illness.', 'Hepatitis A and E are acute (short-term) viral infections typically transmitted through food or water contaminated by fecal matter, the WHO says.', 'The primary sources of the hepatitis A and E viruses are raw or undercooked food, food handled by people who have not properly washed their hands and water contaminated by animal or human waste.', 'Hepatitis E is rare in the United States, but common in other parts of the world, according to the CDC.', 'Hepatitis B is spread through exposure to infected blood, through sexual contact with an infected person, or during childbirth, when the virus can be transmitted from mother to child, according to the NIDDK.', 'Hepatitis C is mainly spread through contact with the blood of an infected person, according to the CDC.', 'Such contact can occur when people share needles to inject drugs.', 'Less commonly, hepatitis C can spread through sex or childbirth.', 'Hepatitis D is also spread through contact with blood, but infections with this virus only occur when someone is also infected with hepatitis B. Injection drug users are at greatest risk for this type of hepatitis, according to the NIDDK.', 'Diagnosis\\n\\nAcute liver infection is usually suspected when patients have symptoms such as jaundice and fatigue.', 'Blood tests can then be used to determine the presence and quantity of hepatitis virus and antibodies in the body.', \"The doctor may suggest getting a liver biopsy if chronic hepatitis B and C is suspected and there's a chance of liver damage.\", 'Since liver damage can occur before there are any overt signs and symptoms, routine screenings for hepatitis B and C are recommended for people who have a high risk of coming in contact with the viruses.', 'Regular testing is recommended for injection-drug users, men who have sex with other men, people taking immunosuppressive drugs, HIV-positive patients and pregnant women, according to hepatitis B guidelines from the CDC.', 'Complications\\n\\nChronic infection and inflammation can lead to extensive scarring of the liver (cirrhosis) and impaired liver functions.', 'While the estimated number of new infections in the United States has been declining, hepatitis B and C viruses can persist as chronic infections, according to statistics reported to the National Notifiable Disease Surveillance System.', 'Both are leading causes of chronic liver disease and liver cancer in the United States.', 'About 2 to 6 percent of adults infected with hepatitis B, and about 75 to 85 percent of people infected with hepatitis C, will develop a chronic infection, according to the CDC.', 'Infants and children who contract hepatitis B have a higher risk for chronic infection.', \"Hepatitis B infections can also increase the risk of becoming infected with hepatitis D, which cannot be contracted unless there's already a pre-existing hepatitis B infection, according to the Mayo Clinic.\", 'Hepatitis B can also cause kidney problems, and infected adults are more likely than children to experience kidney failure.', 'Both hepatitis A and E do not lead to chronic infections, according to the CDC.', 'However, in rare cases, acute liver failure could occur in older adults and those who already have other chronic liver diseases.', 'Treatment\\n\\nMost acute hepatitis infections brought on by the hepatitis A, B, C and E virus will resolve on their own over several weeks or months, according to the NIH.', 'However, severe cases of acute hepatitis B can be treated with antiviral drugs such as lamivudine (trade name Epivir).', 'Chronic hepatitis B and C infections (which do not get better on their own after a few months) may be treated with antiviral medications such as pegylated interferon (peginterferon) injections or oral antivirals such as lamivudine for hepatitis B or ribavirin (trade name Copegus, Rebetol, Ribasphere) for hepatitis C. However, ribavairin must be taken with peginterferon in order for it to be an effective treatment against hepatitis C, according to the NIH.', 'Liver transplants may be necessary if the liver is severely damaged.', 'Prevention\\n\\nRoutine childhood hepatitis A vaccination, which was implemented in many parts of the United States in the 1990s, has significantly reduced new cases of Hepatitis A by 95 percent between 1995 (12 cases per 100,000 people ) to 2010 (less than 1 case per 100,000 people), according to the CDC.', 'Hepatitis B vaccination is also available, and it is 95 percent effective in preventing viral infections and its chronic consequences, according to the WHO.', 'Although there is no vaccine for hepatitis D, the disease can still be prevented by vaccinating against hepatitis B.', 'Babies born to mothers infected with hepatitis B should receive hepatitis B immune globulin and the hepatitis B vaccine within 12 hours of birth to help prevent infection, the NIH says.', 'Additional reporting by Rachael Rettner, Senior Writer\\n\\nFollow Rachael Rettner @RachaelRettner.', 'Follow Live Science @livescience, Facebook & Google+.The CDC divides travel vaccinations into three categories: 1) routine, 2) recommended, and 3) required.', 'The only vaccine classified as \"required\" by International Health Regulations is the yellow fever vaccination for travel to certain countries in sub-Saharan Africa and tropical South America.', 'What are the common types of viral hepatitis?', 'Although the most common types of viral hepatitis are HAV, HBV and HCV, some clinicians had previously considered the acute and chronic phases of hepatic infections as \"types\" of viral hepatitis.', 'HAV was considered to be acute viral hepatitis because the HAV infections seldom caused permanent liver damage that led to hepatic (liver) failure.', 'HBV and HCV produced chronic viral hepatitis.', 'However, these terms are outdated and not currently used as frequently because all of the viruses that cause hepatitis may have acute phase symptoms (see symptoms below).', 'Prevention techniques and vaccinations have markedly reduced the current incidence of common viral hepatitis infections; however, there remains a population of about 1 to 2 million people in the U.S. with chronic HBV, and about 3.5 million with chronic HCV according to the CDC.', 'Statistics are incomplete for determining how many new infections occur each year; the CDC documented infections but then goes on to estimate the actual numbers by further estimating the number of unreported infections (see following sections and reference 1).', 'Hepatitis A (HAV)\\n\\nIn 2016, there were 2,007 new HAV cases reported to the CDC.', 'The hepatitis caused by HAV is an acute illness (acute viral hepatitis) that never becomes chronic.', 'At one time, hepatitis A was referred to as \"infectious hepatitis\" because it could be spread easily from person to person like other viral infections.', 'Infection with hepatitis A virus can be spread through the ingestion of food or water, especially where unsanitary conditions allow water or food to become contaminated by human waste containing hepatitis A (the fecal-oral mode of transmission).', 'Hepatitis A typically is spread among household members and close contacts through the passage of oral secretions (intimate kissing) or stool (poor hand washing).', 'It also is common to have infection spread to customers in restaurants and among children and workers in day care centers if hand washing and sanitary precautions are not observed.', 'Hepatitis B (HBV)\\n\\nThere were 3,218 new cases of HBV infection estimated by the CDC in 2016 and more than 1,698 people died due to the consequences of chronic hepatitis B infection in the United States according to the CDC.', 'HBV hepatitis was at one time referred to as \"serum hepatitis,\" because it was thought that the only way HBV could spread was through blood or serum (the liquid portion of blood) containing the virus.', 'It is now known that HBV can spread by sexual contact, the transfer of blood or serum through shared needles in drug abusers, accidental needle sticks with needles contaminated with infected blood, blood transfusions, hemodialysis, and by infected mothers to their newborns.', 'The infection also can be spread by tattooing, body piercing, and sharing razors and toothbrushes (if there is contamination with infected blood).', 'About 5% to 10% of patients with HBV hepatitis develop chronic HBV infection (infection lasting at least six months and often years to decades) and can infect others as long as they remain infected.', 'Patients with chronic HBV infection also are at risk of developing cirrhosis, liver failure, and liver cancer.', 'It is estimated that there are 2.2 million people in the U.S. and 2 billion people worldwide who suffer with chronic HBV infections.', 'Hepatitis C (HCV)\\n\\nThe CDC reported that there were 2,967 reported new cases of hepatitis C in 2016.', 'The CDC reports that the actual number of acute cases are estimated to be 13.9 times the number of reported cases in any year, thus, it is estimated that there were actually 41,200 acute hepatitis C cases occurring in 2016.', 'HCV hepatitis was previously referred to as \"non-A, non-B hepatitis,\" because the causative virus had not been identified, but it was known to be neither HAV nor HBV.', 'HCV usually is spread by shared needles among drug abusers, blood transfusion, hemodialysis, and needle sticks.', 'Approximately 75%-90% of transfusion-associated hepatitis is caused by HCV.', 'Transmission of the virus by sexual contact has been reported, but is considered rare.', 'An estimated 75% to 85% of patients with acute HCV infection develop chronic infection.', 'Patients with chronic HCV infection can continue to infect others.', 'Patients with chronic HCV infection are at risk for developing cirrhosis, liver failure, and liver cancer.', 'It is estimated that there are about 3.5 million people with chronic HCV infection in the U.S.\\n\\nTypes D, E, and G Hepatitis\\n\\nThere also are viral hepatitis types D, E, and G. The most important of these at present is the hepatitis D virus (HDV), also known as the delta virus or agent.', 'It is a small virus that requires concomitant infection with HBV to survive.', 'HDV cannot survive on its own because it requires a protein that the HBV makes (the envelope protein, also called surface antigen) to enable it to infect liver cells.', 'The ways in which HDV is spread are by shared needles among drug abusers, contaminated blood, and by sexual contact; essentially the same ways as HBV.', 'Individuals who already have chronic HBV infection can acquire HDV infection at the same time as they acquire the HBV infection, or at a later time.', 'Those with chronic hepatitis due to HBV and HDV develop cirrhosis (severe liver scarring) rapidly.', 'Moreover, the combination of HDV and HBV virus infection is very difficult to treat.', 'Hepatitis E virus (HEV) is similar to HAV in terms of disease, and mainly occurs in Asia where it is transmitted by contaminated water.', 'Hepatitis G virus (HGV, also termed GBV-C) was recently discovered and resembles HCV, but more closely, the flaviviruses.', 'The virus and its effects are under investigation, and its role in causing disease in humans is unclear.9 May 2017\\n\\n·\\n\\nHepatitis refers to an inflammatory condition of the liver.', \"It's commonly caused by a viral infection, but there are other possible causes of hepatitis.\", 'These include autoimmune hepatitis and hepatitis that occurs as a secondary result of medications, drugs, toxins, and alcohol.']\n"
     ]
    }
   ],
   "source": [
    "text = corpus\n",
    "sent_tokens = nltk.sent_tokenize(text)\n",
    "print(sent_tokens)"
   ]
  },
  {
   "cell_type": "code",
   "execution_count": 12,
   "metadata": {},
   "outputs": [
    {
     "name": "stdout",
     "output_type": "stream",
     "text": [
      "!\"#$%&'()*+,-./:;<=>?@[\\]^_`{|}~\n"
     ]
    }
   ],
   "source": [
    "remove_punct_dict = dict( (ord(punct),None) for punct in string.punctuation)\n",
    "print(string.punctuation)"
   ]
  },
  {
   "cell_type": "code",
   "execution_count": 14,
   "metadata": {},
   "outputs": [
    {
     "name": "stdout",
     "output_type": "stream",
     "text": [
      "{33: None, 34: None, 35: None, 36: None, 37: None, 38: None, 39: None, 40: None, 41: None, 42: None, 43: None, 44: None, 45: None, 46: None, 47: None, 58: None, 59: None, 60: None, 61: None, 62: None, 63: None, 64: None, 91: None, 92: None, 93: None, 94: None, 95: None, 96: None, 123: None, 124: None, 125: None, 126: None}\n"
     ]
    }
   ],
   "source": [
    "print(remove_punct_dict)"
   ]
  },
  {
   "cell_type": "code",
   "execution_count": 15,
   "metadata": {},
   "outputs": [
    {
     "name": "stdout",
     "output_type": "stream",
     "text": [
      "['hepatitis', 'is', 'the', 'inflammation', 'of', 'the', 'liver', 'although', 'hepatitis', 'can', 'be', 'the', 'symptom', 'of', 'many', 'illnesses', 'including', 'autoimmune', 'diseases', 'it', 'is', 'most', 'often', 'caused', 'by', 'a', 'viral', 'infection', 'there', 'are', 'five', 'main', 'types', 'of', 'viral', 'hepatitis', '—', 'a', 'b', 'c', 'd', 'and', 'e', 'of', 'those', 'hepatitis', 'a', 'b', 'and', 'c', 'are', 'the', 'most', 'common', 'types', 'in', 'the', 'united', 'states', 'according', 'to', 'the', 'centers', 'for', 'disease', 'control', 'and', 'preventioncdc', 'viral', 'hepatitis', 'sometimes', 'goes', 'away', 'without', 'any', 'treatment', 'but', 'in', 'some', 'cases', 'the', 'virus', 'will', 'stay', 'in', 'the', 'body', 'and', 'cause', 'a', 'chronic', 'infection', 'symptoms', 'some', 'people', 'with', 'hepatitis', 'have', 'no', 'symptoms', 'according', 'to', 'the', 'national', 'institute', 'of', 'diabetes', 'and', 'digestive', 'and', 'kidney', 'diseases', 'niddk', 'when', 'symptoms', 'occur', 'they', 'can', 'include', 'jaundice', 'a', 'yellowing', 'of', 'the', 'skin', 'and', 'eyes', 'abdominal', 'pain', 'loss', 'of', 'appetite', 'nausea', 'and', 'vomiting', 'diarrhea', 'fever', 'causes', 'hepatitis', 'can', 'be', 'caused', 'by', 'drugs', 'alcohol', 'or', 'other', 'toxins', 'by', 'infection', 'with', 'bacteria', 'viruses', 'or', 'parasites', 'or', 'when', 'the', 'body', 'mistakenly', 'attacks', 'the', 'liver', 'an', 'autoimmune', 'disease', 'according', 'to', 'the', 'world', 'health', 'organization', 'hepatitis', 'viruses', 'are', 'the', 'most', 'common', 'cause', 'of', 'the', 'illness', 'hepatitis', 'a', 'and', 'e', 'are', 'acute', 'shortterm', 'viral', 'infections', 'typically', 'transmitted', 'through', 'food', 'or', 'water', 'contaminated', 'by', 'fecal', 'matter', 'the', 'who', 'says', 'the', 'primary', 'sources', 'of', 'the', 'hepatitis', 'a', 'and', 'e', 'viruses', 'are', 'raw', 'or', 'undercooked', 'food', 'food', 'handled', 'by', 'people', 'who', 'have', 'not', 'properly', 'washed', 'their', 'hands', 'and', 'water', 'contaminated', 'by', 'animal', 'or', 'human', 'waste', 'hepatitis', 'e', 'is', 'rare', 'in', 'the', 'united', 'states', 'but', 'common', 'in', 'other', 'parts', 'of', 'the', 'world', 'according', 'to', 'the', 'cdc', 'hepatitis', 'b', 'is', 'spread', 'through', 'exposure', 'to', 'infected', 'blood', 'through', 'sexual', 'contact', 'with', 'an', 'infected', 'person', 'or', 'during', 'childbirth', 'when', 'the', 'virus', 'can', 'be', 'transmitted', 'from', 'mother', 'to', 'child', 'according', 'to', 'the', 'niddk', 'hepatitis', 'c', 'is', 'mainly', 'spread', 'through', 'contact', 'with', 'the', 'blood', 'of', 'an', 'infected', 'person', 'according', 'to', 'the', 'cdc', 'such', 'contact', 'can', 'occur', 'when', 'people', 'share', 'needles', 'to', 'inject', 'drugs', 'less', 'commonly', 'hepatitis', 'c', 'can', 'spread', 'through', 'sex', 'or', 'childbirth', 'hepatitis', 'd', 'is', 'also', 'spread', 'through', 'contact', 'with', 'blood', 'but', 'infections', 'with', 'this', 'virus', 'only', 'occur', 'when', 'someone', 'is', 'also', 'infected', 'with', 'hepatitis', 'b', 'injection', 'drug', 'users', 'are', 'at', 'greatest', 'risk', 'for', 'this', 'type', 'of', 'hepatitis', 'according', 'to', 'the', 'niddk', 'diagnosis', 'acute', 'liver', 'infection', 'is', 'usually', 'suspected', 'when', 'patients', 'have', 'symptoms', 'such', 'as', 'jaundice', 'and', 'fatigue', 'blood', 'tests', 'can', 'then', 'be', 'used', 'to', 'determine', 'the', 'presence', 'and', 'quantity', 'of', 'hepatitis', 'virus', 'and', 'antibodies', 'in', 'the', 'body', 'the', 'doctor', 'may', 'suggest', 'getting', 'a', 'liver', 'biopsy', 'if', 'chronic', 'hepatitis', 'b', 'and', 'c', 'is', 'suspected', 'and', 'theres', 'a', 'chance', 'of', 'liver', 'damage', 'since', 'liver', 'damage', 'can', 'occur', 'before', 'there', 'are', 'any', 'overt', 'signs', 'and', 'symptoms', 'routine', 'screenings', 'for', 'hepatitis', 'b', 'and', 'c', 'are', 'recommended', 'for', 'people', 'who', 'have', 'a', 'high', 'risk', 'of', 'coming', 'in', 'contact', 'with', 'the', 'viruses', 'regular', 'testing', 'is', 'recommended', 'for', 'injectiondrug', 'users', 'men', 'who', 'have', 'sex', 'with', 'other', 'men', 'people', 'taking', 'immunosuppressive', 'drugs', 'hivpositive', 'patients', 'and', 'pregnant', 'women', 'according', 'to', 'hepatitis', 'b', 'guidelines', 'from', 'the', 'cdc', 'complications', 'chronic', 'infection', 'and', 'inflammation', 'can', 'lead', 'to', 'extensive', 'scarring', 'of', 'the', 'liver', 'cirrhosis', 'and', 'impaired', 'liver', 'functions', 'while', 'the', 'estimated', 'number', 'of', 'new', 'infections', 'in', 'the', 'united', 'states', 'has', 'been', 'declining', 'hepatitis', 'b', 'and', 'c', 'viruses', 'can', 'persist', 'as', 'chronic', 'infections', 'according', 'to', 'statistics', 'reported', 'to', 'the', 'national', 'notifiable', 'disease', 'surveillance', 'system', 'both', 'are', 'leading', 'causes', 'of', 'chronic', 'liver', 'disease', 'and', 'liver', 'cancer', 'in', 'the', 'united', 'states', 'about', '2', 'to', '6', 'percent', 'of', 'adults', 'infected', 'with', 'hepatitis', 'b', 'and', 'about', '75', 'to', '85', 'percent', 'of', 'people', 'infected', 'with', 'hepatitis', 'c', 'will', 'develop', 'a', 'chronic', 'infection', 'according', 'to', 'the', 'cdc', 'infants', 'and', 'children', 'who', 'contract', 'hepatitis', 'b', 'have', 'a', 'higher', 'risk', 'for', 'chronic', 'infection', 'hepatitis', 'b', 'infections', 'can', 'also', 'increase', 'the', 'risk', 'of', 'becoming', 'infected', 'with', 'hepatitis', 'd', 'which', 'can', 'not', 'be', 'contracted', 'unless', 'theres', 'already', 'a', 'preexisting', 'hepatitis', 'b', 'infection', 'according', 'to', 'the', 'mayo', 'clinic', 'hepatitis', 'b', 'can', 'also', 'cause', 'kidney', 'problems', 'and', 'infected', 'adults', 'are', 'more', 'likely', 'than', 'children', 'to', 'experience', 'kidney', 'failure', 'both', 'hepatitis', 'a', 'and', 'e', 'do', 'not', 'lead', 'to', 'chronic', 'infections', 'according', 'to', 'the', 'cdc', 'however', 'in', 'rare', 'cases', 'acute', 'liver', 'failure', 'could', 'occur', 'in', 'older', 'adults', 'and', 'those', 'who', 'already', 'have', 'other', 'chronic', 'liver', 'diseases', 'treatment', 'most', 'acute', 'hepatitis', 'infections', 'brought', 'on', 'by', 'the', 'hepatitis', 'a', 'b', 'c', 'and', 'e', 'virus', 'will', 'resolve', 'on', 'their', 'own', 'over', 'several', 'weeks', 'or', 'months', 'according', 'to', 'the', 'nih', 'however', 'severe', 'cases', 'of', 'acute', 'hepatitis', 'b', 'can', 'be', 'treated', 'with', 'antiviral', 'drugs', 'such', 'as', 'lamivudine', 'trade', 'name', 'epivir', 'chronic', 'hepatitis', 'b', 'and', 'c', 'infections', 'which', 'do', 'not', 'get', 'better', 'on', 'their', 'own', 'after', 'a', 'few', 'months', 'may', 'be', 'treated', 'with', 'antiviral', 'medications', 'such', 'as', 'pegylated', 'interferon', 'peginterferon', 'injections', 'or', 'oral', 'antivirals', 'such', 'as', 'lamivudine', 'for', 'hepatitis', 'b', 'or', 'ribavirin', 'trade', 'name', 'copegus', 'rebetol', 'ribasphere', 'for', 'hepatitis', 'c', 'however', 'ribavairin', 'must', 'be', 'taken', 'with', 'peginterferon', 'in', 'order', 'for', 'it', 'to', 'be', 'an', 'effective', 'treatment', 'against', 'hepatitis', 'c', 'according', 'to', 'the', 'nih', 'liver', 'transplants', 'may', 'be', 'necessary', 'if', 'the', 'liver', 'is', 'severely', 'damaged', 'prevention', 'routine', 'childhood', 'hepatitis', 'a', 'vaccination', 'which', 'was', 'implemented', 'in', 'many', 'parts', 'of', 'the', 'united', 'states', 'in', 'the', '1990s', 'has', 'significantly', 'reduced', 'new', 'cases', 'of', 'hepatitis', 'a', 'by', '95', 'percent', 'between', '1995', '12', 'cases', 'per', '100000', 'people', 'to', '2010', 'less', 'than', '1', 'case', 'per', '100000', 'people', 'according', 'to', 'the', 'cdc', 'hepatitis', 'b', 'vaccination', 'is', 'also', 'available', 'and', 'it', 'is', '95', 'percent', 'effective', 'in', 'preventing', 'viral', 'infections', 'and', 'its', 'chronic', 'consequences', 'according', 'to', 'the', 'who', 'although', 'there', 'is', 'no', 'vaccine', 'for', 'hepatitis', 'd', 'the', 'disease', 'can', 'still', 'be', 'prevented', 'by', 'vaccinating', 'against', 'hepatitis', 'b', 'babies', 'born', 'to', 'mothers', 'infected', 'with', 'hepatitis', 'b', 'should', 'receive', 'hepatitis', 'b', 'immune', 'globulin', 'and', 'the', 'hepatitis', 'b', 'vaccine', 'within', '12', 'hours', 'of', 'birth', 'to', 'help', 'prevent', 'infection', 'the', 'nih', 'says', 'additional', 'reporting', 'by', 'rachael', 'rettner', 'senior', 'writer', 'follow', 'rachael', 'rettner', 'rachaelrettner', 'follow', 'live', 'science', 'livescience', 'facebook', 'googlethe', 'cdc', 'divides', 'travel', 'vaccinations', 'into', 'three', 'categories', '1', 'routine', '2', 'recommended', 'and', '3', 'required', 'the', 'only', 'vaccine', 'classified', 'as', 'required', 'by', 'international', 'health', 'regulations', 'is', 'the', 'yellow', 'fever', 'vaccination', 'for', 'travel', 'to', 'certain', 'countries', 'in', 'subsaharan', 'africa', 'and', 'tropical', 'south', 'america', 'what', 'are', 'the', 'common', 'types', 'of', 'viral', 'hepatitis', 'although', 'the', 'most', 'common', 'types', 'of', 'viral', 'hepatitis', 'are', 'hav', 'hbv', 'and', 'hcv', 'some', 'clinicians', 'had', 'previously', 'considered', 'the', 'acute', 'and', 'chronic', 'phases', 'of', 'hepatic', 'infections', 'as', 'types', 'of', 'viral', 'hepatitis', 'hav', 'was', 'considered', 'to', 'be', 'acute', 'viral', 'hepatitis', 'because', 'the', 'hav', 'infections', 'seldom', 'caused', 'permanent', 'liver', 'damage', 'that', 'led', 'to', 'hepatic', 'liver', 'failure', 'hbv', 'and', 'hcv', 'produced', 'chronic', 'viral', 'hepatitis', 'however', 'these', 'terms', 'are', 'outdated', 'and', 'not', 'currently', 'used', 'as', 'frequently', 'because', 'all', 'of', 'the', 'viruses', 'that', 'cause', 'hepatitis', 'may', 'have', 'acute', 'phase', 'symptoms', 'see', 'symptoms', 'below', 'prevention', 'techniques', 'and', 'vaccinations', 'have', 'markedly', 'reduced', 'the', 'current', 'incidence', 'of', 'common', 'viral', 'hepatitis', 'infections', 'however', 'there', 'remains', 'a', 'population', 'of', 'about', '1', 'to', '2', 'million', 'people', 'in', 'the', 'us', 'with', 'chronic', 'hbv', 'and', 'about', '35', 'million', 'with', 'chronic', 'hcv', 'according', 'to', 'the', 'cdc', 'statistics', 'are', 'incomplete', 'for', 'determining', 'how', 'many', 'new', 'infections', 'occur', 'each', 'year', 'the', 'cdc', 'documented', 'infections', 'but', 'then', 'goes', 'on', 'to', 'estimate', 'the', 'actual', 'numbers', 'by', 'further', 'estimating', 'the', 'number', 'of', 'unreported', 'infections', 'see', 'following', 'sections', 'and', 'reference', '1', 'hepatitis', 'a', 'hav', 'in', '2016', 'there', 'were', '2007', 'new', 'hav', 'cases', 'reported', 'to', 'the', 'cdc', 'the', 'hepatitis', 'caused', 'by', 'hav', 'is', 'an', 'acute', 'illness', 'acute', 'viral', 'hepatitis', 'that', 'never', 'becomes', 'chronic', 'at', 'one', 'time', 'hepatitis', 'a', 'was', 'referred', 'to', 'as', 'infectious', 'hepatitis', 'because', 'it', 'could', 'be', 'spread', 'easily', 'from', 'person', 'to', 'person', 'like', 'other', 'viral', 'infections', 'infection', 'with', 'hepatitis', 'a', 'virus', 'can', 'be', 'spread', 'through', 'the', 'ingestion', 'of', 'food', 'or', 'water', 'especially', 'where', 'unsanitary', 'conditions', 'allow', 'water', 'or', 'food', 'to', 'become', 'contaminated', 'by', 'human', 'waste', 'containing', 'hepatitis', 'a', 'the', 'fecaloral', 'mode', 'of', 'transmission', 'hepatitis', 'a', 'typically', 'is', 'spread', 'among', 'household', 'members', 'and', 'close', 'contacts', 'through', 'the', 'passage', 'of', 'oral', 'secretions', 'intimate', 'kissing', 'or', 'stool', 'poor', 'hand', 'washing', 'it', 'also', 'is', 'common', 'to', 'have', 'infection', 'spread', 'to', 'customers', 'in', 'restaurants', 'and', 'among', 'children', 'and', 'workers', 'in', 'day', 'care', 'centers', 'if', 'hand', 'washing', 'and', 'sanitary', 'precautions', 'are', 'not', 'observed', 'hepatitis', 'b', 'hbv', 'there', 'were', '3218', 'new', 'cases', 'of', 'hbv', 'infection', 'estimated', 'by', 'the', 'cdc', 'in', '2016', 'and', 'more', 'than', '1698', 'people', 'died', 'due', 'to', 'the', 'consequences', 'of', 'chronic', 'hepatitis', 'b', 'infection', 'in', 'the', 'united', 'states', 'according', 'to', 'the', 'cdc', 'hbv', 'hepatitis', 'was', 'at', 'one', 'time', 'referred', 'to', 'as', 'serum', 'hepatitis', 'because', 'it', 'was', 'thought', 'that', 'the', 'only', 'way', 'hbv', 'could', 'spread', 'was', 'through', 'blood', 'or', 'serum', 'the', 'liquid', 'portion', 'of', 'blood', 'containing', 'the', 'virus', 'it', 'is', 'now', 'known', 'that', 'hbv', 'can', 'spread', 'by', 'sexual', 'contact', 'the', 'transfer', 'of', 'blood', 'or', 'serum', 'through', 'shared', 'needles', 'in', 'drug', 'abusers', 'accidental', 'needle', 'sticks', 'with', 'needles', 'contaminated', 'with', 'infected', 'blood', 'blood', 'transfusions', 'hemodialysis', 'and', 'by', 'infected', 'mothers', 'to', 'their', 'newborns', 'the', 'infection', 'also', 'can', 'be', 'spread', 'by', 'tattooing', 'body', 'piercing', 'and', 'sharing', 'razors', 'and', 'toothbrushes', 'if', 'there', 'is', 'contamination', 'with', 'infected', 'blood', 'about', '5', 'to', '10', 'of', 'patients', 'with', 'hbv', 'hepatitis', 'develop', 'chronic', 'hbv', 'infection', 'infection', 'lasting', 'at', 'least', 'six', 'months', 'and', 'often', 'years', 'to', 'decades', 'and', 'can', 'infect', 'others', 'as', 'long', 'as', 'they', 'remain', 'infected', 'patients', 'with', 'chronic', 'hbv', 'infection', 'also', 'are', 'at', 'risk', 'of', 'developing', 'cirrhosis', 'liver', 'failure', 'and', 'liver', 'cancer', 'it', 'is', 'estimated', 'that', 'there', 'are', '22', 'million', 'people', 'in', 'the', 'us', 'and', '2', 'billion', 'people', 'worldwide', 'who', 'suffer', 'with', 'chronic', 'hbv', 'infections', 'hepatitis', 'c', 'hcv', 'the', 'cdc', 'reported', 'that', 'there', 'were', '2967', 'reported', 'new', 'cases', 'of', 'hepatitis', 'c', 'in', '2016', 'the', 'cdc', 'reports', 'that', 'the', 'actual', 'number', 'of', 'acute', 'cases', 'are', 'estimated', 'to', 'be', '139', 'times', 'the', 'number', 'of', 'reported', 'cases', 'in', 'any', 'year', 'thus', 'it', 'is', 'estimated', 'that', 'there', 'were', 'actually', '41200', 'acute', 'hepatitis', 'c', 'cases', 'occurring', 'in', '2016', 'hcv', 'hepatitis', 'was', 'previously', 'referred', 'to', 'as', 'nona', 'nonb', 'hepatitis', 'because', 'the', 'causative', 'virus', 'had', 'not', 'been', 'identified', 'but', 'it', 'was', 'known', 'to', 'be', 'neither', 'hav', 'nor', 'hbv', 'hcv', 'usually', 'is', 'spread', 'by', 'shared', 'needles', 'among', 'drug', 'abusers', 'blood', 'transfusion', 'hemodialysis', 'and', 'needle', 'sticks', 'approximately', '7590', 'of', 'transfusionassociated', 'hepatitis', 'is', 'caused', 'by', 'hcv', 'transmission', 'of', 'the', 'virus', 'by', 'sexual', 'contact', 'has', 'been', 'reported', 'but', 'is', 'considered', 'rare', 'an', 'estimated', '75', 'to', '85', 'of', 'patients', 'with', 'acute', 'hcv', 'infection', 'develop', 'chronic', 'infection', 'patients', 'with', 'chronic', 'hcv', 'infection', 'can', 'continue', 'to', 'infect', 'others', 'patients', 'with', 'chronic', 'hcv', 'infection', 'are', 'at', 'risk', 'for', 'developing', 'cirrhosis', 'liver', 'failure', 'and', 'liver', 'cancer', 'it', 'is', 'estimated', 'that', 'there', 'are', 'about', '35', 'million', 'people', 'with', 'chronic', 'hcv', 'infection', 'in', 'the', 'us', 'types', 'd', 'e', 'and', 'g', 'hepatitis', 'there', 'also', 'are', 'viral', 'hepatitis', 'types', 'd', 'e', 'and', 'g', 'the', 'most', 'important', 'of', 'these', 'at', 'present', 'is', 'the', 'hepatitis', 'd', 'virus', 'hdv', 'also', 'known', 'as', 'the', 'delta', 'virus', 'or', 'agent', 'it', 'is', 'a', 'small', 'virus', 'that', 'requires', 'concomitant', 'infection', 'with', 'hbv', 'to', 'survive', 'hdv', 'can', 'not', 'survive', 'on', 'its', 'own', 'because', 'it', 'requires', 'a', 'protein', 'that', 'the', 'hbv', 'makes', 'the', 'envelope', 'protein', 'also', 'called', 'surface', 'antigen', 'to', 'enable', 'it', 'to', 'infect', 'liver', 'cells', 'the', 'ways', 'in', 'which', 'hdv', 'is', 'spread', 'are', 'by', 'shared', 'needles', 'among', 'drug', 'abusers', 'contaminated', 'blood', 'and', 'by', 'sexual', 'contact', 'essentially', 'the', 'same', 'ways', 'as', 'hbv', 'individuals', 'who', 'already', 'have', 'chronic', 'hbv', 'infection', 'can', 'acquire', 'hdv', 'infection', 'at', 'the', 'same', 'time', 'as', 'they', 'acquire', 'the', 'hbv', 'infection', 'or', 'at', 'a', 'later', 'time', 'those', 'with', 'chronic', 'hepatitis', 'due', 'to', 'hbv', 'and', 'hdv', 'develop', 'cirrhosis', 'severe', 'liver', 'scarring', 'rapidly', 'moreover', 'the', 'combination', 'of', 'hdv', 'and', 'hbv', 'virus', 'infection', 'is', 'very', 'difficult', 'to', 'treat', 'hepatitis', 'e', 'virus', 'hev', 'is', 'similar', 'to', 'hav', 'in', 'terms', 'of', 'disease', 'and', 'mainly', 'occurs', 'in', 'asia', 'where', 'it', 'is', 'transmitted', 'by', 'contaminated', 'water', 'hepatitis', 'g', 'virus', 'hgv', 'also', 'termed', 'gbvc', 'was', 'recently', 'discovered', 'and', 'resembles', 'hcv', 'but', 'more', 'closely', 'the', 'flaviviruses', 'the', 'virus', 'and', 'its', 'effects', 'are', 'under', 'investigation', 'and', 'its', 'role', 'in', 'causing', 'disease', 'in', 'humans', 'is', 'unclear9', 'may', '2017', '·', 'hepatitis', 'refers', 'to', 'an', 'inflammatory', 'condition', 'of', 'the', 'liver', 'its', 'commonly', 'caused', 'by', 'a', 'viral', 'infection', 'but', 'there', 'are', 'other', 'possible', 'causes', 'of', 'hepatitis', 'these', 'include', 'autoimmune', 'hepatitis', 'and', 'hepatitis', 'that', 'occurs', 'as', 'a', 'secondary', 'result', 'of', 'medications', 'drugs', 'toxins', 'and', 'alcohol']\n"
     ]
    }
   ],
   "source": [
    "# function to return a list of lemmatized loe case words after removing punctuation\n",
    "def LemNormalize(text):\n",
    "    return nltk.word_tokenize(text.lower().translate(remove_punct_dict))\n",
    "\n",
    "print(LemNormalize(text))"
   ]
  },
  {
   "cell_type": "code",
   "execution_count": 16,
   "metadata": {},
   "outputs": [],
   "source": [
    "#Keyword Matching\n",
    "GREETING_INPUTS = [\"hi\",'hello','hola','greetings','wassup','hey','hwfa']\n",
    "GREETINGS_RESPONSE =[\"howdy\",\"hi\",\"hey\",\"what's good\",\"hello\",\"hey there\"]\n",
    "def greeting(sentence):\n",
    "    for word in sentence.split():\n",
    "        if word.lower() in GREETING_INPUTS:\n",
    "            return random.choice(GREETINGS_RESPONSE)"
   ]
  },
  {
   "cell_type": "code",
   "execution_count": 17,
   "metadata": {},
   "outputs": [],
   "source": [
    "\n",
    "def response(user_response):\n",
    "    #user_response = \"what is chronic kidney disease\"\n",
    "    user_response_response = user_response.lower()\n",
    "\n",
    "    robo_response = \"\"\n",
    "\n",
    "    sent_tokens.append(user_response)\n",
    "    #print(sent_tokens)\n",
    "    TfidfVec = TfidfVectorizer(tokenizer = LemNormalize, stop_words='english')\n",
    "    tfidf = TfidfVec.fit_transform(sent_tokens)\n",
    "    #print(tfidf)\n",
    "    vals = cosine_similarity(tfidf[-1],tfidf)\n",
    "    #print(vals)\n",
    "    idx = vals.argsort()[0][-2]\n",
    "    flat = vals.flatten()\n",
    "    flat.sort()\n",
    "    score = flat[-2]\n",
    "    #print(score)\n",
    "    if(score == 0):\n",
    "        robo_response = robo_response + \"I apologize, i don't understand\"\n",
    "    else:\n",
    "        robo_response = robo_response+sent_tokens[idx]\n",
    "    #print(robo_response)\n",
    "    sent_tokens.remove(user_response)\n",
    "    \n",
    "    return robo_response"
   ]
  },
  {
   "cell_type": "code",
   "execution_count": 18,
   "metadata": {},
   "outputs": [
    {
     "name": "stdout",
     "output_type": "stream",
     "text": [
      "Hbot: I am Hepatitisbot or DOCbot for short i will answer your queries about Hepatitis if you want to exit type bye\n",
      "hi\n",
      "DOCbot: howdy\n",
      "tell me about hepatitis\n",
      "DOCbot:The hepatitis caused by HAV is an acute illness (acute viral hepatitis) that never becomes chronic.\n",
      "hwfa\n",
      "DOCbot: hey\n",
      "bye\n",
      "DOCbot: chat with you later ! \n"
     ]
    }
   ],
   "source": [
    "flag = True\n",
    "print(\"Hbot: I am Hepatitisbot or DOCbot for short i will answer your queries about Hepatitis if you want to exit type bye\")\n",
    "while(flag == True):\n",
    "    user_response = input()\n",
    "    user_response = user_response.lower()\n",
    "    if(user_response != \"bye\"):\n",
    "        if(user_response == 'thanks' or user_response == 'thank you'):\n",
    "            flag = False\n",
    "            print(\"DOCbot: you are welcome\")\n",
    "        else:\n",
    "            if(greeting(user_response)!= None):\n",
    "                print(\"DOCbot: \"+greeting(user_response))\n",
    "            else:\n",
    "                print(\"DOCbot:\"+response(user_response))\n",
    "    else:\n",
    "        flag = False\n",
    "        print(\"DOCbot: chat with you later ! \")\n",
    "\n",
    "\n",
    "\n",
    "\n",
    "\n",
    "\n",
    "\n",
    "\n",
    "\n",
    "\n",
    "\n",
    "\n",
    "\n",
    "\n",
    "\n",
    "\n",
    "\n",
    "\n",
    "\n",
    "\n",
    "\n",
    "\n",
    "\n",
    "\n",
    "\n",
    "\n",
    "\n",
    "\n",
    "\n",
    "\n",
    "\n"
   ]
  },
  {
   "cell_type": "code",
   "execution_count": null,
   "metadata": {},
   "outputs": [],
   "source": []
  }
 ],
 "metadata": {
  "kernelspec": {
   "display_name": "Python 3",
   "language": "python",
   "name": "python3"
  },
  "language_info": {
   "codemirror_mode": {
    "name": "ipython",
    "version": 3
   },
   "file_extension": ".py",
   "mimetype": "text/x-python",
   "name": "python",
   "nbconvert_exporter": "python",
   "pygments_lexer": "ipython3",
   "version": "3.7.4"
  }
 },
 "nbformat": 4,
 "nbformat_minor": 2
}
